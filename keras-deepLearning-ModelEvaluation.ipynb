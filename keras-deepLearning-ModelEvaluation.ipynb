{
 "cells": [
  {
   "cell_type": "code",
   "execution_count": 93,
   "id": "4b89b9ca",
   "metadata": {},
   "outputs": [],
   "source": [
    "import numpy as np\n",
    "import pandas as pd\n",
    "%matplotlib inline\n",
    "import matplotlib.pyplot as plt\n",
    "import seaborn as sns"
   ]
  },
  {
   "cell_type": "code",
   "execution_count": 94,
   "id": "075d0727",
   "metadata": {},
   "outputs": [
    {
     "data": {
      "text/html": [
       "<div>\n",
       "<style scoped>\n",
       "    .dataframe tbody tr th:only-of-type {\n",
       "        vertical-align: middle;\n",
       "    }\n",
       "\n",
       "    .dataframe tbody tr th {\n",
       "        vertical-align: top;\n",
       "    }\n",
       "\n",
       "    .dataframe thead th {\n",
       "        text-align: right;\n",
       "    }\n",
       "</style>\n",
       "<table border=\"1\" class=\"dataframe\">\n",
       "  <thead>\n",
       "    <tr style=\"text-align: right;\">\n",
       "      <th></th>\n",
       "      <th>Age</th>\n",
       "      <th>Sex</th>\n",
       "      <th>ChestPainType</th>\n",
       "      <th>RestingBP</th>\n",
       "      <th>Cholesterol</th>\n",
       "      <th>FastingBS</th>\n",
       "      <th>RestingECG</th>\n",
       "      <th>MaxHR</th>\n",
       "      <th>ExerciseAngina</th>\n",
       "      <th>Oldpeak</th>\n",
       "      <th>ST_Slope</th>\n",
       "      <th>HeartDisease</th>\n",
       "    </tr>\n",
       "  </thead>\n",
       "  <tbody>\n",
       "    <tr>\n",
       "      <th>0</th>\n",
       "      <td>40</td>\n",
       "      <td>M</td>\n",
       "      <td>ATA</td>\n",
       "      <td>140</td>\n",
       "      <td>289</td>\n",
       "      <td>0</td>\n",
       "      <td>Normal</td>\n",
       "      <td>172</td>\n",
       "      <td>N</td>\n",
       "      <td>0.0</td>\n",
       "      <td>Up</td>\n",
       "      <td>0</td>\n",
       "    </tr>\n",
       "    <tr>\n",
       "      <th>1</th>\n",
       "      <td>49</td>\n",
       "      <td>F</td>\n",
       "      <td>NAP</td>\n",
       "      <td>160</td>\n",
       "      <td>180</td>\n",
       "      <td>0</td>\n",
       "      <td>Normal</td>\n",
       "      <td>156</td>\n",
       "      <td>N</td>\n",
       "      <td>1.0</td>\n",
       "      <td>Flat</td>\n",
       "      <td>1</td>\n",
       "    </tr>\n",
       "    <tr>\n",
       "      <th>2</th>\n",
       "      <td>37</td>\n",
       "      <td>M</td>\n",
       "      <td>ATA</td>\n",
       "      <td>130</td>\n",
       "      <td>283</td>\n",
       "      <td>0</td>\n",
       "      <td>ST</td>\n",
       "      <td>98</td>\n",
       "      <td>N</td>\n",
       "      <td>0.0</td>\n",
       "      <td>Up</td>\n",
       "      <td>0</td>\n",
       "    </tr>\n",
       "    <tr>\n",
       "      <th>3</th>\n",
       "      <td>48</td>\n",
       "      <td>F</td>\n",
       "      <td>ASY</td>\n",
       "      <td>138</td>\n",
       "      <td>214</td>\n",
       "      <td>0</td>\n",
       "      <td>Normal</td>\n",
       "      <td>108</td>\n",
       "      <td>Y</td>\n",
       "      <td>1.5</td>\n",
       "      <td>Flat</td>\n",
       "      <td>1</td>\n",
       "    </tr>\n",
       "    <tr>\n",
       "      <th>4</th>\n",
       "      <td>54</td>\n",
       "      <td>M</td>\n",
       "      <td>NAP</td>\n",
       "      <td>150</td>\n",
       "      <td>195</td>\n",
       "      <td>0</td>\n",
       "      <td>Normal</td>\n",
       "      <td>122</td>\n",
       "      <td>N</td>\n",
       "      <td>0.0</td>\n",
       "      <td>Up</td>\n",
       "      <td>0</td>\n",
       "    </tr>\n",
       "  </tbody>\n",
       "</table>\n",
       "</div>"
      ],
      "text/plain": [
       "   Age Sex ChestPainType  RestingBP  Cholesterol  FastingBS RestingECG  MaxHR  \\\n",
       "0   40   M           ATA        140          289          0     Normal    172   \n",
       "1   49   F           NAP        160          180          0     Normal    156   \n",
       "2   37   M           ATA        130          283          0         ST     98   \n",
       "3   48   F           ASY        138          214          0     Normal    108   \n",
       "4   54   M           NAP        150          195          0     Normal    122   \n",
       "\n",
       "  ExerciseAngina  Oldpeak ST_Slope  HeartDisease  \n",
       "0              N      0.0       Up             0  \n",
       "1              N      1.0     Flat             1  \n",
       "2              N      0.0       Up             0  \n",
       "3              Y      1.5     Flat             1  \n",
       "4              N      0.0       Up             0  "
      ]
     },
     "execution_count": 94,
     "metadata": {},
     "output_type": "execute_result"
    }
   ],
   "source": [
    "# Loading the dataset and getting the information on the columns\n",
    "df = pd.read_csv('D:/UO/Term-4/IAI-5101/Assignment-2/heart.csv')\n",
    "df.head()"
   ]
  },
  {
   "cell_type": "code",
   "execution_count": 95,
   "id": "e60f35e3",
   "metadata": {},
   "outputs": [
    {
     "name": "stdout",
     "output_type": "stream",
     "text": [
      "<class 'pandas.core.frame.DataFrame'>\n",
      "RangeIndex: 918 entries, 0 to 917\n",
      "Data columns (total 12 columns):\n",
      " #   Column          Non-Null Count  Dtype  \n",
      "---  ------          --------------  -----  \n",
      " 0   Age             918 non-null    int64  \n",
      " 1   Sex             918 non-null    object \n",
      " 2   ChestPainType   918 non-null    object \n",
      " 3   RestingBP       918 non-null    int64  \n",
      " 4   Cholesterol     918 non-null    int64  \n",
      " 5   FastingBS       918 non-null    int64  \n",
      " 6   RestingECG      918 non-null    object \n",
      " 7   MaxHR           918 non-null    int64  \n",
      " 8   ExerciseAngina  918 non-null    object \n",
      " 9   Oldpeak         918 non-null    float64\n",
      " 10  ST_Slope        918 non-null    object \n",
      " 11  HeartDisease    918 non-null    int64  \n",
      "dtypes: float64(1), int64(6), object(5)\n",
      "memory usage: 86.2+ KB\n"
     ]
    }
   ],
   "source": [
    "df.info()"
   ]
  },
  {
   "cell_type": "code",
   "execution_count": 96,
   "id": "fb9e9fdb",
   "metadata": {},
   "outputs": [
    {
     "data": {
      "text/html": [
       "<div>\n",
       "<style scoped>\n",
       "    .dataframe tbody tr th:only-of-type {\n",
       "        vertical-align: middle;\n",
       "    }\n",
       "\n",
       "    .dataframe tbody tr th {\n",
       "        vertical-align: top;\n",
       "    }\n",
       "\n",
       "    .dataframe thead th {\n",
       "        text-align: right;\n",
       "    }\n",
       "</style>\n",
       "<table border=\"1\" class=\"dataframe\">\n",
       "  <thead>\n",
       "    <tr style=\"text-align: right;\">\n",
       "      <th></th>\n",
       "      <th>Age</th>\n",
       "      <th>RestingBP</th>\n",
       "      <th>Cholesterol</th>\n",
       "      <th>FastingBS</th>\n",
       "      <th>MaxHR</th>\n",
       "      <th>Oldpeak</th>\n",
       "      <th>HeartDisease</th>\n",
       "    </tr>\n",
       "  </thead>\n",
       "  <tbody>\n",
       "    <tr>\n",
       "      <th>count</th>\n",
       "      <td>918.000000</td>\n",
       "      <td>918.000000</td>\n",
       "      <td>918.000000</td>\n",
       "      <td>918.000000</td>\n",
       "      <td>918.000000</td>\n",
       "      <td>918.000000</td>\n",
       "      <td>918.000000</td>\n",
       "    </tr>\n",
       "    <tr>\n",
       "      <th>mean</th>\n",
       "      <td>53.510893</td>\n",
       "      <td>132.396514</td>\n",
       "      <td>198.799564</td>\n",
       "      <td>0.233115</td>\n",
       "      <td>136.809368</td>\n",
       "      <td>0.887364</td>\n",
       "      <td>0.553377</td>\n",
       "    </tr>\n",
       "    <tr>\n",
       "      <th>std</th>\n",
       "      <td>9.432617</td>\n",
       "      <td>18.514154</td>\n",
       "      <td>109.384145</td>\n",
       "      <td>0.423046</td>\n",
       "      <td>25.460334</td>\n",
       "      <td>1.066570</td>\n",
       "      <td>0.497414</td>\n",
       "    </tr>\n",
       "    <tr>\n",
       "      <th>min</th>\n",
       "      <td>28.000000</td>\n",
       "      <td>0.000000</td>\n",
       "      <td>0.000000</td>\n",
       "      <td>0.000000</td>\n",
       "      <td>60.000000</td>\n",
       "      <td>-2.600000</td>\n",
       "      <td>0.000000</td>\n",
       "    </tr>\n",
       "    <tr>\n",
       "      <th>25%</th>\n",
       "      <td>47.000000</td>\n",
       "      <td>120.000000</td>\n",
       "      <td>173.250000</td>\n",
       "      <td>0.000000</td>\n",
       "      <td>120.000000</td>\n",
       "      <td>0.000000</td>\n",
       "      <td>0.000000</td>\n",
       "    </tr>\n",
       "    <tr>\n",
       "      <th>50%</th>\n",
       "      <td>54.000000</td>\n",
       "      <td>130.000000</td>\n",
       "      <td>223.000000</td>\n",
       "      <td>0.000000</td>\n",
       "      <td>138.000000</td>\n",
       "      <td>0.600000</td>\n",
       "      <td>1.000000</td>\n",
       "    </tr>\n",
       "    <tr>\n",
       "      <th>75%</th>\n",
       "      <td>60.000000</td>\n",
       "      <td>140.000000</td>\n",
       "      <td>267.000000</td>\n",
       "      <td>0.000000</td>\n",
       "      <td>156.000000</td>\n",
       "      <td>1.500000</td>\n",
       "      <td>1.000000</td>\n",
       "    </tr>\n",
       "    <tr>\n",
       "      <th>max</th>\n",
       "      <td>77.000000</td>\n",
       "      <td>200.000000</td>\n",
       "      <td>603.000000</td>\n",
       "      <td>1.000000</td>\n",
       "      <td>202.000000</td>\n",
       "      <td>6.200000</td>\n",
       "      <td>1.000000</td>\n",
       "    </tr>\n",
       "  </tbody>\n",
       "</table>\n",
       "</div>"
      ],
      "text/plain": [
       "              Age   RestingBP  Cholesterol   FastingBS       MaxHR  \\\n",
       "count  918.000000  918.000000   918.000000  918.000000  918.000000   \n",
       "mean    53.510893  132.396514   198.799564    0.233115  136.809368   \n",
       "std      9.432617   18.514154   109.384145    0.423046   25.460334   \n",
       "min     28.000000    0.000000     0.000000    0.000000   60.000000   \n",
       "25%     47.000000  120.000000   173.250000    0.000000  120.000000   \n",
       "50%     54.000000  130.000000   223.000000    0.000000  138.000000   \n",
       "75%     60.000000  140.000000   267.000000    0.000000  156.000000   \n",
       "max     77.000000  200.000000   603.000000    1.000000  202.000000   \n",
       "\n",
       "          Oldpeak  HeartDisease  \n",
       "count  918.000000    918.000000  \n",
       "mean     0.887364      0.553377  \n",
       "std      1.066570      0.497414  \n",
       "min     -2.600000      0.000000  \n",
       "25%      0.000000      0.000000  \n",
       "50%      0.600000      1.000000  \n",
       "75%      1.500000      1.000000  \n",
       "max      6.200000      1.000000  "
      ]
     },
     "execution_count": 96,
     "metadata": {},
     "output_type": "execute_result"
    }
   ],
   "source": [
    "df.describe()"
   ]
  },
  {
   "cell_type": "code",
   "execution_count": 97,
   "id": "ad97ab6b",
   "metadata": {},
   "outputs": [
    {
     "data": {
      "text/plain": [
       "<AxesSubplot:ylabel='Frequency'>"
      ]
     },
     "execution_count": 97,
     "metadata": {},
     "output_type": "execute_result"
    },
    {
     "data": {
      "image/png": "[encoded data removed]",
      "text/plain": [
       "<Figure size 432x288 with 1 Axes>"
      ]
     },
     "metadata": {
      "needs_background": "light"
     },
     "output_type": "display_data"
    }
   ],
   "source": [
    "# SECTION - A\n",
    "# Exploratory Data Analysis (EDA)\n",
    "# Univariate Analysis \n",
    "df['FastingBS'].plot.hist()"
   ]
  },
  {
   "cell_type": "code",
   "execution_count": 98,
   "id": "6b10c430",
   "metadata": {},
   "outputs": [
    {
     "data": {
      "text/plain": [
       "<AxesSubplot:ylabel='Frequency'>"
      ]
     },
     "execution_count": 98,
     "metadata": {},
     "output_type": "execute_result"
    },
    {
     "data": {
      "image/png": "[encoded data removed]",
      "text/plain": [
       "<Figure size 432x288 with 1 Axes>"
      ]
     },
     "metadata": {
      "needs_background": "light"
     },
     "output_type": "display_data"
    }
   ],
   "source": [
    "df['Age'].plot.hist()"
   ]
  },
  {
   "cell_type": "code",
   "execution_count": 99,
   "id": "fdd1961e",
   "metadata": {},
   "outputs": [
    {
     "data": {
      "text/plain": [
       "<AxesSubplot:ylabel='Frequency'>"
      ]
     },
     "execution_count": 99,
     "metadata": {},
     "output_type": "execute_result"
    },
    {
     "data": {
      "image/png": "[encoded data removed]",
      "text/plain": [
       "<Figure size 432x288 with 1 Axes>"
      ]
     },
     "metadata": {
      "needs_background": "light"
     },
     "output_type": "display_data"
    }
   ],
   "source": [
    "df['RestingBP'].plot.hist()"
   ]
  },
  {
   "cell_type": "code",
   "execution_count": 100,
   "id": "52c160f0",
   "metadata": {},
   "outputs": [
    {
     "data": {
      "text/plain": [
       "<AxesSubplot:ylabel='Frequency'>"
      ]
     },
     "execution_count": 100,
     "metadata": {},
     "output_type": "execute_result"
    },
    {
     "data": {
      "image/png": "[encoded data removed]",
      "text/plain": [
       "<Figure size 432x288 with 1 Axes>"
      ]
     },
     "metadata": {
      "needs_background": "light"
     },
     "output_type": "display_data"
    }
   ],
   "source": [
    "df['MaxHR'].plot.hist()"
   ]
  },
  {
   "cell_type": "code",
   "execution_count": 101,
   "id": "7cf11cf6",
   "metadata": {},
   "outputs": [
    {
     "data": {
      "text/plain": [
       "<AxesSubplot:ylabel='Frequency'>"
      ]
     },
     "execution_count": 101,
     "metadata": {},
     "output_type": "execute_result"
    },
    {
     "data": {
      "image/png": "[encoded data removed]",
      "text/plain": [
       "<Figure size 432x288 with 1 Axes>"
      ]
     },
     "metadata": {
      "needs_background": "light"
     },
     "output_type": "display_data"
    }
   ],
   "source": [
    "df['Cholesterol'].plot.hist()"
   ]
  },
  {
   "cell_type": "code",
   "execution_count": 102,
   "id": "ddbdedb4",
   "metadata": {},
   "outputs": [
    {
     "data": {
      "text/plain": [
       "<AxesSubplot:ylabel='Frequency'>"
      ]
     },
     "execution_count": 102,
     "metadata": {},
     "output_type": "execute_result"
    },
    {
     "data": {
      "image/png": "[encoded data removed]",
      "text/plain": [
       "<Figure size 432x288 with 1 Axes>"
      ]
     },
     "metadata": {
      "needs_background": "light"
     },
     "output_type": "display_data"
    }
   ],
   "source": [
    "df['Oldpeak'].plot.hist()"
   ]
  },
  {
   "cell_type": "code",
   "execution_count": 103,
   "id": "dd300c3f",
   "metadata": {},
   "outputs": [
    {
     "data": {
      "text/plain": [
       "<seaborn.axisgrid.FacetGrid at 0x1a9f6fc5550>"
      ]
     },
     "execution_count": 103,
     "metadata": {},
     "output_type": "execute_result"
    },
    {
     "data": {
      "image/png": "[encoded data removed]",
      "text/plain": [
       "<Figure size 441.55x360 with 1 Axes>"
      ]
     },
     "metadata": {},
     "output_type": "display_data"
    }
   ],
   "source": [
    "# Bivariate Analysis: \n",
    "# Histogram showing age against target variable\n",
    "sns.set(style=\"darkgrid\")\n",
    "sns.displot(df, x=\"Age\", hue=\"HeartDisease\")"
   ]
  },
  {
   "cell_type": "code",
   "execution_count": 104,
   "id": "42623ae3",
   "metadata": {},
   "outputs": [
    {
     "data": {
      "text/plain": [
       "<AxesSubplot:title={'center':'Age'}, xlabel='Sex'>"
      ]
     },
     "execution_count": 104,
     "metadata": {},
     "output_type": "execute_result"
    },
    {
     "data": {
      "image/png": "[encoded data removed]",
      "text/plain": [
       "<Figure size 432x288 with 1 Axes>"
      ]
     },
     "metadata": {},
     "output_type": "display_data"
    }
   ],
   "source": [
    "# Comparing the Median Age for Male and Female using pandas\n",
    "df.boxplot(by='Sex', column=['Age'], grid=True)"
   ]
  },
  {
   "cell_type": "code",
   "execution_count": 105,
   "id": "c4407913",
   "metadata": {},
   "outputs": [
    {
     "data": {
      "text/plain": [
       "<AxesSubplot:xlabel='Age', ylabel='Sex'>"
      ]
     },
     "execution_count": 105,
     "metadata": {},
     "output_type": "execute_result"
    },
    {
     "data": {
      "image/png": "[encoded data removed]",
      "text/plain": [
       "<Figure size 432x288 with 1 Axes>"
      ]
     },
     "metadata": {},
     "output_type": "display_data"
    }
   ],
   "source": [
    "# Comparing the Median Age for Male and Female using Seaborn\n",
    "sns.set_style(\"whitegrid\")\n",
    "\n",
    "sns.boxplot(x='Age',\n",
    "            y='Sex',\n",
    "            data=df,\n",
    "            showmeans=True,\n",
    "            meanprops={\"marker\": \"+\",\n",
    "                       \"markeredgecolor\": \"black\",\n",
    "                       \"markersize\": \"10\"})"
   ]
  },
  {
   "cell_type": "code",
   "execution_count": 106,
   "id": "ef2ae6ca",
   "metadata": {},
   "outputs": [
    {
     "data": {
      "text/plain": [
       "<AxesSubplot:>"
      ]
     },
     "execution_count": 106,
     "metadata": {},
     "output_type": "execute_result"
    },
    {
     "data": {
      "image/png": "[encoded data removed]",
      "text/plain": [
       "<Figure size 432x288 with 2 Axes>"
      ]
     },
     "metadata": {},
     "output_type": "display_data"
    }
   ],
   "source": [
    "# Multivariate Analysis\n",
    "# Correlation between predictor variables\n",
    "cor_mat = df.corr()\n",
    "sns.heatmap(cor_mat, annot=True)"
   ]
  },
  {
   "cell_type": "code",
   "execution_count": 107,
   "id": "5c1861c3",
   "metadata": {
    "scrolled": true
   },
   "outputs": [
    {
     "name": "stdout",
     "output_type": "stream",
     "text": [
      "              Age  RestingBP  Cholesterol  FastingBS     MaxHR   Oldpeak  \\\n",
      "Age           NaN   0.254399    -0.095282   0.198039 -0.382045  0.258612   \n",
      "RestingBP     NaN        NaN     0.100893   0.070193 -0.112135  0.164803   \n",
      "Cholesterol   NaN        NaN          NaN  -0.260974  0.235792  0.050148   \n",
      "FastingBS     NaN        NaN          NaN        NaN -0.131438  0.052698   \n",
      "MaxHR         NaN        NaN          NaN        NaN       NaN -0.160691   \n",
      "Oldpeak       NaN        NaN          NaN        NaN       NaN       NaN   \n",
      "HeartDisease  NaN        NaN          NaN        NaN       NaN       NaN   \n",
      "\n",
      "              HeartDisease  \n",
      "Age               0.282039  \n",
      "RestingBP         0.107589  \n",
      "Cholesterol      -0.232741  \n",
      "FastingBS         0.267291  \n",
      "MaxHR            -0.400421  \n",
      "Oldpeak           0.403951  \n",
      "HeartDisease           NaN  \n"
     ]
    },
    {
     "name": "stderr",
     "output_type": "stream",
     "text": [
      "<ipython-input-107-ee24dff9d01c>:2: DeprecationWarning: `np.bool` is a deprecated alias for the builtin `bool`. To silence this warning, use `bool` by itself. Doing this will not modify any behavior and is safe. If you specifically wanted the numpy scalar type, use `np.bool_` here.\n",
      "Deprecated in NumPy 1.20; for more details and guidance: https://numpy.org/devdocs/release/1.20.0-notes.html#deprecations\n",
      "  upper_tri = cor_mat.where(np.triu(np.ones(cor_mat.shape), k =1).astype(np.bool))\n"
     ]
    }
   ],
   "source": [
    "# Validating the Upper Triangular Matrix in a bid to drop deeply correlated features\n",
    "upper_tri = cor_mat.where(np.triu(np.ones(cor_mat.shape), k =1).astype(np.bool))\n",
    "print(upper_tri)"
   ]
  },
  {
   "cell_type": "code",
   "execution_count": 108,
   "id": "4c15e5f4",
   "metadata": {},
   "outputs": [
    {
     "name": "stdout",
     "output_type": "stream",
     "text": [
      "[]\n"
     ]
    }
   ],
   "source": [
    "to_drop = [column for column in upper_tri.columns if any(upper_tri[column] > 0.95)]\n",
    "print(to_drop)"
   ]
  },
  {
   "cell_type": "code",
   "execution_count": 109,
   "id": "bc19727c",
   "metadata": {},
   "outputs": [],
   "source": [
    "# SECTION - B\n",
    "# Feature Engineering\n",
    "\n",
    "# 1. Checking for duplicates and dropping them\n",
    "df = df.drop_duplicates()"
   ]
  },
  {
   "cell_type": "code",
   "execution_count": 110,
   "id": "103c3239",
   "metadata": {},
   "outputs": [
    {
     "data": {
      "text/plain": [
       "Age               0\n",
       "Sex               0\n",
       "ChestPainType     0\n",
       "RestingBP         0\n",
       "Cholesterol       0\n",
       "FastingBS         0\n",
       "RestingECG        0\n",
       "MaxHR             0\n",
       "ExerciseAngina    0\n",
       "Oldpeak           0\n",
       "ST_Slope          0\n",
       "HeartDisease      0\n",
       "dtype: int64"
      ]
     },
     "execution_count": 110,
     "metadata": {},
     "output_type": "execute_result"
    }
   ],
   "source": [
    "# Checking for null values in each features\n",
    "df.isnull().sum()"
   ]
  },
  {
   "cell_type": "code",
   "execution_count": 111,
   "id": "885d7095",
   "metadata": {},
   "outputs": [
    {
     "name": "stdout",
     "output_type": "stream",
     "text": [
      "172\n",
      "1\n",
      "13\n"
     ]
    }
   ],
   "source": [
    "#2 Handling the Outliers in the dataset.\n",
    "# Viewing the outliers count first\n",
    "print(df[df['Cholesterol']==0].shape[0])\n",
    "print(df[df['RestingBP']==0].shape[0])\n",
    "print(df[df['Oldpeak']<0].shape[0])"
   ]
  },
  {
   "cell_type": "code",
   "execution_count": 112,
   "id": "2c99d592",
   "metadata": {},
   "outputs": [],
   "source": [
    "# Looking at the distribution other than the outliers we can see that\n",
    "# Cholesterol has normal distribution (excluding outliers), using mean here\n",
    "# RestingBP -> Left Skewed -> Using Median\n",
    "# Oldpeak -> Right Skewed -> Using Median\n",
    "\n",
    "df['Cholesterol']=df['Cholesterol'].replace(0, df['Cholesterol'].mean())\n",
    "df['RestingBP']=df['RestingBP'].replace(0, df['RestingBP'].median())\n",
    "df['Oldpeak']=np.where(df.Oldpeak < 0, df['Oldpeak'].median(), df.Oldpeak)"
   ]
  },
  {
   "cell_type": "code",
   "execution_count": 113,
   "id": "0d7a0b2a",
   "metadata": {},
   "outputs": [
    {
     "name": "stdout",
     "output_type": "stream",
     "text": [
      "0\n",
      "0\n",
      "0\n"
     ]
    }
   ],
   "source": [
    "# Verifying the removal of outliers\n",
    "print(df[df['Cholesterol']==0].shape[0])\n",
    "print(df[df['RestingBP']==0].shape[0])\n",
    "print(df[df['Oldpeak']<0].shape[0])"
   ]
  },
  {
   "cell_type": "code",
   "execution_count": 114,
   "id": "6208a6a3",
   "metadata": {},
   "outputs": [
    {
     "name": "stdout",
     "output_type": "stream",
     "text": [
      "ASY    496\n",
      "NAP    203\n",
      "ATA    173\n",
      "TA      46\n",
      "Name: ChestPainType, dtype: int64\n",
      "Normal    552\n",
      "LVH       188\n",
      "ST        178\n",
      "Name: RestingECG, dtype: int64\n",
      "N    547\n",
      "Y    371\n",
      "Name: ExerciseAngina, dtype: int64\n",
      "Flat    460\n",
      "Up      395\n",
      "Down     63\n",
      "Name: ST_Slope, dtype: int64\n"
     ]
    }
   ],
   "source": [
    "# Class imbalance is checked before splitting the model.\n",
    "# Next the focus is on encoding the categorical data into numeric data\n",
    "# The categorical features and their value counts are checked first.\n",
    "print(df['ChestPainType'].value_counts())\n",
    "print(df['RestingECG'].value_counts())\n",
    "print(df['ExerciseAngina'].value_counts())\n",
    "print(df['ST_Slope'].value_counts())"
   ]
  },
  {
   "cell_type": "code",
   "execution_count": 115,
   "id": "4170e41c",
   "metadata": {},
   "outputs": [],
   "source": [
    "# 4. Encoding Categorical values to integer codes\n",
    "# 5 features are non numeric: Sex, ChestPainType, RestingECG, ExerciseAngina and ST_Slope.\n",
    "# Encoding Sex through mapping as it is a binary feature\n",
    "df['Sex'] = df['Sex'].map({'M':1, 'F':0})\n",
    "# Encoding ExerciseAngina through mapping as it is a binary feature\n",
    "df['ExerciseAngina'] = df['ExerciseAngina'].map({'N':1, 'Y':0})"
   ]
  },
  {
   "cell_type": "code",
   "execution_count": 116,
   "id": "2acbf547",
   "metadata": {},
   "outputs": [
    {
     "name": "stdout",
     "output_type": "stream",
     "text": [
      "0      ATA\n",
      "1      NAP\n",
      "2      ATA\n",
      "3      ASY\n",
      "4      NAP\n",
      "      ... \n",
      "913     TA\n",
      "914    ASY\n",
      "915    ASY\n",
      "916    ATA\n",
      "917    NAP\n",
      "Name: ChestPainType, Length: 918, dtype: object\n"
     ]
    }
   ],
   "source": [
    "print(df['ChestPainType'])"
   ]
  },
  {
   "cell_type": "code",
   "execution_count": 117,
   "id": "5bf7f60c",
   "metadata": {},
   "outputs": [
    {
     "name": "stdout",
     "output_type": "stream",
     "text": [
      "0    496\n",
      "2    203\n",
      "1    173\n",
      "3     46\n",
      "Name: ChestPainType, dtype: int64\n"
     ]
    }
   ],
   "source": [
    "from sklearn.preprocessing import LabelEncoder\n",
    "encoder = LabelEncoder()\n",
    "df['ChestPainType'] = encoder.fit_transform(df['ChestPainType'])\n",
    "print(df['ChestPainType'].value_counts())"
   ]
  },
  {
   "cell_type": "code",
   "execution_count": 118,
   "id": "d49ff506",
   "metadata": {},
   "outputs": [
    {
     "name": "stdout",
     "output_type": "stream",
     "text": [
      "1    552\n",
      "0    188\n",
      "2    178\n",
      "Name: RestingECG, dtype: int64\n"
     ]
    }
   ],
   "source": [
    "df['RestingECG'] = encoder.fit_transform(df['RestingECG'])\n",
    "print(df['RestingECG'].value_counts())"
   ]
  },
  {
   "cell_type": "code",
   "execution_count": 119,
   "id": "e5392c08",
   "metadata": {},
   "outputs": [
    {
     "name": "stdout",
     "output_type": "stream",
     "text": [
      "1    460\n",
      "2    395\n",
      "0     63\n",
      "Name: ST_Slope, dtype: int64\n"
     ]
    }
   ],
   "source": [
    "df['ST_Slope'] = encoder.fit_transform(df['ST_Slope'])\n",
    "print(df['ST_Slope'].value_counts())"
   ]
  },
  {
   "cell_type": "code",
   "execution_count": 120,
   "id": "2ccc36e4",
   "metadata": {},
   "outputs": [
    {
     "name": "stdout",
     "output_type": "stream",
     "text": [
      "<class 'pandas.core.frame.DataFrame'>\n",
      "Int64Index: 918 entries, 0 to 917\n",
      "Data columns (total 12 columns):\n",
      " #   Column          Non-Null Count  Dtype  \n",
      "---  ------          --------------  -----  \n",
      " 0   Age             918 non-null    int64  \n",
      " 1   Sex             918 non-null    int64  \n",
      " 2   ChestPainType   918 non-null    int32  \n",
      " 3   RestingBP       918 non-null    int64  \n",
      " 4   Cholesterol     918 non-null    float64\n",
      " 5   FastingBS       918 non-null    int64  \n",
      " 6   RestingECG      918 non-null    int32  \n",
      " 7   MaxHR           918 non-null    int64  \n",
      " 8   ExerciseAngina  918 non-null    int64  \n",
      " 9   Oldpeak         918 non-null    float64\n",
      " 10  ST_Slope        918 non-null    int32  \n",
      " 11  HeartDisease    918 non-null    int64  \n",
      "dtypes: float64(2), int32(3), int64(7)\n",
      "memory usage: 82.5 KB\n"
     ]
    }
   ],
   "source": [
    "# Verifying the Data Types of the features after encoding.\n",
    "df.info()"
   ]
  },
  {
   "cell_type": "code",
   "execution_count": 121,
   "id": "cbd6f396",
   "metadata": {},
   "outputs": [
    {
     "data": {
      "text/html": [
       "<div>\n",
       "<style scoped>\n",
       "    .dataframe tbody tr th:only-of-type {\n",
       "        vertical-align: middle;\n",
       "    }\n",
       "\n",
       "    .dataframe tbody tr th {\n",
       "        vertical-align: top;\n",
       "    }\n",
       "\n",
       "    .dataframe thead th {\n",
       "        text-align: right;\n",
       "    }\n",
       "</style>\n",
       "<table border=\"1\" class=\"dataframe\">\n",
       "  <thead>\n",
       "    <tr style=\"text-align: right;\">\n",
       "      <th></th>\n",
       "      <th>Age</th>\n",
       "      <th>Sex</th>\n",
       "      <th>ChestPainType</th>\n",
       "      <th>RestingBP</th>\n",
       "      <th>Cholesterol</th>\n",
       "      <th>FastingBS</th>\n",
       "      <th>RestingECG</th>\n",
       "      <th>MaxHR</th>\n",
       "      <th>ExerciseAngina</th>\n",
       "      <th>Oldpeak</th>\n",
       "      <th>ST_Slope</th>\n",
       "      <th>HeartDisease</th>\n",
       "    </tr>\n",
       "  </thead>\n",
       "  <tbody>\n",
       "    <tr>\n",
       "      <th>count</th>\n",
       "      <td>918.000000</td>\n",
       "      <td>918.000000</td>\n",
       "      <td>918.000000</td>\n",
       "      <td>918.000000</td>\n",
       "      <td>918.000000</td>\n",
       "      <td>918.000000</td>\n",
       "      <td>918.000000</td>\n",
       "      <td>918.000000</td>\n",
       "      <td>918.000000</td>\n",
       "      <td>918.000000</td>\n",
       "      <td>918.000000</td>\n",
       "      <td>918.000000</td>\n",
       "    </tr>\n",
       "    <tr>\n",
       "      <th>mean</th>\n",
       "      <td>53.510893</td>\n",
       "      <td>0.789760</td>\n",
       "      <td>0.781046</td>\n",
       "      <td>132.538126</td>\n",
       "      <td>236.047413</td>\n",
       "      <td>0.233115</td>\n",
       "      <td>0.989107</td>\n",
       "      <td>136.809368</td>\n",
       "      <td>0.595861</td>\n",
       "      <td>0.909804</td>\n",
       "      <td>1.361656</td>\n",
       "      <td>0.553377</td>\n",
       "    </tr>\n",
       "    <tr>\n",
       "      <th>std</th>\n",
       "      <td>9.432617</td>\n",
       "      <td>0.407701</td>\n",
       "      <td>0.956519</td>\n",
       "      <td>17.990127</td>\n",
       "      <td>56.240952</td>\n",
       "      <td>0.423046</td>\n",
       "      <td>0.631671</td>\n",
       "      <td>25.460334</td>\n",
       "      <td>0.490992</td>\n",
       "      <td>1.040160</td>\n",
       "      <td>0.607056</td>\n",
       "      <td>0.497414</td>\n",
       "    </tr>\n",
       "    <tr>\n",
       "      <th>min</th>\n",
       "      <td>28.000000</td>\n",
       "      <td>0.000000</td>\n",
       "      <td>0.000000</td>\n",
       "      <td>80.000000</td>\n",
       "      <td>85.000000</td>\n",
       "      <td>0.000000</td>\n",
       "      <td>0.000000</td>\n",
       "      <td>60.000000</td>\n",
       "      <td>0.000000</td>\n",
       "      <td>0.000000</td>\n",
       "      <td>0.000000</td>\n",
       "      <td>0.000000</td>\n",
       "    </tr>\n",
       "    <tr>\n",
       "      <th>25%</th>\n",
       "      <td>47.000000</td>\n",
       "      <td>1.000000</td>\n",
       "      <td>0.000000</td>\n",
       "      <td>120.000000</td>\n",
       "      <td>198.799564</td>\n",
       "      <td>0.000000</td>\n",
       "      <td>1.000000</td>\n",
       "      <td>120.000000</td>\n",
       "      <td>0.000000</td>\n",
       "      <td>0.000000</td>\n",
       "      <td>1.000000</td>\n",
       "      <td>0.000000</td>\n",
       "    </tr>\n",
       "    <tr>\n",
       "      <th>50%</th>\n",
       "      <td>54.000000</td>\n",
       "      <td>1.000000</td>\n",
       "      <td>0.000000</td>\n",
       "      <td>130.000000</td>\n",
       "      <td>223.000000</td>\n",
       "      <td>0.000000</td>\n",
       "      <td>1.000000</td>\n",
       "      <td>138.000000</td>\n",
       "      <td>1.000000</td>\n",
       "      <td>0.600000</td>\n",
       "      <td>1.000000</td>\n",
       "      <td>1.000000</td>\n",
       "    </tr>\n",
       "    <tr>\n",
       "      <th>75%</th>\n",
       "      <td>60.000000</td>\n",
       "      <td>1.000000</td>\n",
       "      <td>2.000000</td>\n",
       "      <td>140.000000</td>\n",
       "      <td>267.000000</td>\n",
       "      <td>0.000000</td>\n",
       "      <td>1.000000</td>\n",
       "      <td>156.000000</td>\n",
       "      <td>1.000000</td>\n",
       "      <td>1.500000</td>\n",
       "      <td>2.000000</td>\n",
       "      <td>1.000000</td>\n",
       "    </tr>\n",
       "    <tr>\n",
       "      <th>max</th>\n",
       "      <td>77.000000</td>\n",
       "      <td>1.000000</td>\n",
       "      <td>3.000000</td>\n",
       "      <td>200.000000</td>\n",
       "      <td>603.000000</td>\n",
       "      <td>1.000000</td>\n",
       "      <td>2.000000</td>\n",
       "      <td>202.000000</td>\n",
       "      <td>1.000000</td>\n",
       "      <td>6.200000</td>\n",
       "      <td>2.000000</td>\n",
       "      <td>1.000000</td>\n",
       "    </tr>\n",
       "  </tbody>\n",
       "</table>\n",
       "</div>"
      ],
      "text/plain": [
       "              Age         Sex  ChestPainType   RestingBP  Cholesterol  \\\n",
       "count  918.000000  918.000000     918.000000  918.000000   918.000000   \n",
       "mean    53.510893    0.789760       0.781046  132.538126   236.047413   \n",
       "std      9.432617    0.407701       0.956519   17.990127    56.240952   \n",
       "min     28.000000    0.000000       0.000000   80.000000    85.000000   \n",
       "25%     47.000000    1.000000       0.000000  120.000000   198.799564   \n",
       "50%     54.000000    1.000000       0.000000  130.000000   223.000000   \n",
       "75%     60.000000    1.000000       2.000000  140.000000   267.000000   \n",
       "max     77.000000    1.000000       3.000000  200.000000   603.000000   \n",
       "\n",
       "        FastingBS  RestingECG       MaxHR  ExerciseAngina     Oldpeak  \\\n",
       "count  918.000000  918.000000  918.000000      918.000000  918.000000   \n",
       "mean     0.233115    0.989107  136.809368        0.595861    0.909804   \n",
       "std      0.423046    0.631671   25.460334        0.490992    1.040160   \n",
       "min      0.000000    0.000000   60.000000        0.000000    0.000000   \n",
       "25%      0.000000    1.000000  120.000000        0.000000    0.000000   \n",
       "50%      0.000000    1.000000  138.000000        1.000000    0.600000   \n",
       "75%      0.000000    1.000000  156.000000        1.000000    1.500000   \n",
       "max      1.000000    2.000000  202.000000        1.000000    6.200000   \n",
       "\n",
       "         ST_Slope  HeartDisease  \n",
       "count  918.000000    918.000000  \n",
       "mean     1.361656      0.553377  \n",
       "std      0.607056      0.497414  \n",
       "min      0.000000      0.000000  \n",
       "25%      1.000000      0.000000  \n",
       "50%      1.000000      1.000000  \n",
       "75%      2.000000      1.000000  \n",
       "max      2.000000      1.000000  "
      ]
     },
     "execution_count": 121,
     "metadata": {},
     "output_type": "execute_result"
    }
   ],
   "source": [
    "df.describe()"
   ]
  },
  {
   "cell_type": "code",
   "execution_count": 122,
   "id": "bcfb296f",
   "metadata": {},
   "outputs": [],
   "source": [
    "# 5. Scaling the data \n",
    "from sklearn.preprocessing import MinMaxScaler\n",
    "# Age, MaxHR, Cholesterol and RestingBP have varying scales per the above description\n",
    "# Using MinMaxScaler to transform these values between the interval (0,1)\n",
    "df['Age'] = MinMaxScaler().fit_transform(np.array(df['Age']).reshape(-1,1))\n",
    "df['MaxHR'] = MinMaxScaler().fit_transform(np.array(df['MaxHR']).reshape(-1,1))\n",
    "df['Cholesterol'] = MinMaxScaler().fit_transform(np.array(df['Cholesterol']).reshape(-1,1))\n",
    "df['RestingBP'] = MinMaxScaler().fit_transform(np.array(df['RestingBP']).reshape(-1,1))"
   ]
  },
  {
   "cell_type": "code",
   "execution_count": 123,
   "id": "1c4956ca",
   "metadata": {},
   "outputs": [
    {
     "data": {
      "text/html": [
       "<div>\n",
       "<style scoped>\n",
       "    .dataframe tbody tr th:only-of-type {\n",
       "        vertical-align: middle;\n",
       "    }\n",
       "\n",
       "    .dataframe tbody tr th {\n",
       "        vertical-align: top;\n",
       "    }\n",
       "\n",
       "    .dataframe thead th {\n",
       "        text-align: right;\n",
       "    }\n",
       "</style>\n",
       "<table border=\"1\" class=\"dataframe\">\n",
       "  <thead>\n",
       "    <tr style=\"text-align: right;\">\n",
       "      <th></th>\n",
       "      <th>Age</th>\n",
       "      <th>Sex</th>\n",
       "      <th>ChestPainType</th>\n",
       "      <th>RestingBP</th>\n",
       "      <th>Cholesterol</th>\n",
       "      <th>FastingBS</th>\n",
       "      <th>RestingECG</th>\n",
       "      <th>MaxHR</th>\n",
       "      <th>ExerciseAngina</th>\n",
       "      <th>Oldpeak</th>\n",
       "      <th>ST_Slope</th>\n",
       "      <th>HeartDisease</th>\n",
       "    </tr>\n",
       "  </thead>\n",
       "  <tbody>\n",
       "    <tr>\n",
       "      <th>count</th>\n",
       "      <td>918.000000</td>\n",
       "      <td>918.000000</td>\n",
       "      <td>918.000000</td>\n",
       "      <td>918.000000</td>\n",
       "      <td>918.000000</td>\n",
       "      <td>918.000000</td>\n",
       "      <td>918.000000</td>\n",
       "      <td>918.000000</td>\n",
       "      <td>918.000000</td>\n",
       "      <td>918.000000</td>\n",
       "      <td>918.000000</td>\n",
       "      <td>918.000000</td>\n",
       "    </tr>\n",
       "    <tr>\n",
       "      <th>mean</th>\n",
       "      <td>0.520630</td>\n",
       "      <td>0.789760</td>\n",
       "      <td>0.781046</td>\n",
       "      <td>0.437818</td>\n",
       "      <td>0.291597</td>\n",
       "      <td>0.233115</td>\n",
       "      <td>0.989107</td>\n",
       "      <td>0.540911</td>\n",
       "      <td>0.595861</td>\n",
       "      <td>0.909804</td>\n",
       "      <td>1.361656</td>\n",
       "      <td>0.553377</td>\n",
       "    </tr>\n",
       "    <tr>\n",
       "      <th>std</th>\n",
       "      <td>0.192502</td>\n",
       "      <td>0.407701</td>\n",
       "      <td>0.956519</td>\n",
       "      <td>0.149918</td>\n",
       "      <td>0.108573</td>\n",
       "      <td>0.423046</td>\n",
       "      <td>0.631671</td>\n",
       "      <td>0.179298</td>\n",
       "      <td>0.490992</td>\n",
       "      <td>1.040160</td>\n",
       "      <td>0.607056</td>\n",
       "      <td>0.497414</td>\n",
       "    </tr>\n",
       "    <tr>\n",
       "      <th>min</th>\n",
       "      <td>0.000000</td>\n",
       "      <td>0.000000</td>\n",
       "      <td>0.000000</td>\n",
       "      <td>0.000000</td>\n",
       "      <td>0.000000</td>\n",
       "      <td>0.000000</td>\n",
       "      <td>0.000000</td>\n",
       "      <td>0.000000</td>\n",
       "      <td>0.000000</td>\n",
       "      <td>0.000000</td>\n",
       "      <td>0.000000</td>\n",
       "      <td>0.000000</td>\n",
       "    </tr>\n",
       "    <tr>\n",
       "      <th>25%</th>\n",
       "      <td>0.387755</td>\n",
       "      <td>1.000000</td>\n",
       "      <td>0.000000</td>\n",
       "      <td>0.333333</td>\n",
       "      <td>0.219690</td>\n",
       "      <td>0.000000</td>\n",
       "      <td>1.000000</td>\n",
       "      <td>0.422535</td>\n",
       "      <td>0.000000</td>\n",
       "      <td>0.000000</td>\n",
       "      <td>1.000000</td>\n",
       "      <td>0.000000</td>\n",
       "    </tr>\n",
       "    <tr>\n",
       "      <th>50%</th>\n",
       "      <td>0.530612</td>\n",
       "      <td>1.000000</td>\n",
       "      <td>0.000000</td>\n",
       "      <td>0.416667</td>\n",
       "      <td>0.266409</td>\n",
       "      <td>0.000000</td>\n",
       "      <td>1.000000</td>\n",
       "      <td>0.549296</td>\n",
       "      <td>1.000000</td>\n",
       "      <td>0.600000</td>\n",
       "      <td>1.000000</td>\n",
       "      <td>1.000000</td>\n",
       "    </tr>\n",
       "    <tr>\n",
       "      <th>75%</th>\n",
       "      <td>0.653061</td>\n",
       "      <td>1.000000</td>\n",
       "      <td>2.000000</td>\n",
       "      <td>0.500000</td>\n",
       "      <td>0.351351</td>\n",
       "      <td>0.000000</td>\n",
       "      <td>1.000000</td>\n",
       "      <td>0.676056</td>\n",
       "      <td>1.000000</td>\n",
       "      <td>1.500000</td>\n",
       "      <td>2.000000</td>\n",
       "      <td>1.000000</td>\n",
       "    </tr>\n",
       "    <tr>\n",
       "      <th>max</th>\n",
       "      <td>1.000000</td>\n",
       "      <td>1.000000</td>\n",
       "      <td>3.000000</td>\n",
       "      <td>1.000000</td>\n",
       "      <td>1.000000</td>\n",
       "      <td>1.000000</td>\n",
       "      <td>2.000000</td>\n",
       "      <td>1.000000</td>\n",
       "      <td>1.000000</td>\n",
       "      <td>6.200000</td>\n",
       "      <td>2.000000</td>\n",
       "      <td>1.000000</td>\n",
       "    </tr>\n",
       "  </tbody>\n",
       "</table>\n",
       "</div>"
      ],
      "text/plain": [
       "              Age         Sex  ChestPainType   RestingBP  Cholesterol  \\\n",
       "count  918.000000  918.000000     918.000000  918.000000   918.000000   \n",
       "mean     0.520630    0.789760       0.781046    0.437818     0.291597   \n",
       "std      0.192502    0.407701       0.956519    0.149918     0.108573   \n",
       "min      0.000000    0.000000       0.000000    0.000000     0.000000   \n",
       "25%      0.387755    1.000000       0.000000    0.333333     0.219690   \n",
       "50%      0.530612    1.000000       0.000000    0.416667     0.266409   \n",
       "75%      0.653061    1.000000       2.000000    0.500000     0.351351   \n",
       "max      1.000000    1.000000       3.000000    1.000000     1.000000   \n",
       "\n",
       "        FastingBS  RestingECG       MaxHR  ExerciseAngina     Oldpeak  \\\n",
       "count  918.000000  918.000000  918.000000      918.000000  918.000000   \n",
       "mean     0.233115    0.989107    0.540911        0.595861    0.909804   \n",
       "std      0.423046    0.631671    0.179298        0.490992    1.040160   \n",
       "min      0.000000    0.000000    0.000000        0.000000    0.000000   \n",
       "25%      0.000000    1.000000    0.422535        0.000000    0.000000   \n",
       "50%      0.000000    1.000000    0.549296        1.000000    0.600000   \n",
       "75%      0.000000    1.000000    0.676056        1.000000    1.500000   \n",
       "max      1.000000    2.000000    1.000000        1.000000    6.200000   \n",
       "\n",
       "         ST_Slope  HeartDisease  \n",
       "count  918.000000    918.000000  \n",
       "mean     1.361656      0.553377  \n",
       "std      0.607056      0.497414  \n",
       "min      0.000000      0.000000  \n",
       "25%      1.000000      0.000000  \n",
       "50%      1.000000      1.000000  \n",
       "75%      2.000000      1.000000  \n",
       "max      2.000000      1.000000  "
      ]
     },
     "execution_count": 123,
     "metadata": {},
     "output_type": "execute_result"
    }
   ],
   "source": [
    "# Verifying the output below, we see that all the features are scaled to the interval (0,1)\n",
    "df.describe()"
   ]
  },
  {
   "cell_type": "code",
   "execution_count": 124,
   "id": "404fb2f0",
   "metadata": {},
   "outputs": [
    {
     "name": "stdout",
     "output_type": "stream",
     "text": [
      "1    508\n",
      "0    410\n",
      "Name: HeartDisease, dtype: int64\n",
      "(918, 11)\n",
      "(918,)\n"
     ]
    }
   ],
   "source": [
    "# Class imbalance check\n",
    "print(df['HeartDisease'].value_counts())\n",
    "\n",
    "# We can see that there is not much imbalance in the target feature.\n",
    "\n",
    "y = df['HeartDisease']\n",
    "X = df.drop('HeartDisease', axis=1)\n",
    "\n",
    "X,y = np.array(X), np.array(y)\n",
    "print(X.shape)\n",
    "print(y.shape)\n",
    "\n",
    "#####################################################################\n",
    "# The following commented code was the approach planned to handle imbalance\n",
    "#####################################################################\n",
    "\n",
    "# # Using imblearn adaptive synsthesizer to handle the imbalance\n",
    "# from imblearn.over_sampling import ADASYN\n",
    "# X_resampled, y_resampled = ADASYN().fit_sample(X, y)\n",
    "# print('X_resampled:', X_resampled.shape)\n",
    "# print('y_resampled:', y_resampled.shape)"
   ]
  },
  {
   "cell_type": "code",
   "execution_count": 125,
   "id": "4f2bb2c9",
   "metadata": {},
   "outputs": [
    {
     "name": "stdout",
     "output_type": "stream",
     "text": [
      "[19:00:42] WARNING: ..\\src\\learner.cc:1115: Starting in XGBoost 1.3.0, the default evaluation metric used with the objective 'binary:logistic' was changed from 'error' to 'logloss'. Explicitly set eval_metric if you'd like to restore the old behavior.\n",
      "Accuracy: 83.33%\n"
     ]
    },
    {
     "name": "stderr",
     "output_type": "stream",
     "text": [
      "C:\\Users\\RK\\anaconda3\\lib\\site-packages\\xgboost\\sklearn.py:1224: UserWarning: The use of label encoder in XGBClassifier is deprecated and will be removed in a future release. To remove this warning, do the following: 1) Pass option use_label_encoder=False when constructing XGBClassifier object; and 2) Encode your labels (y) as integers starting with 0, i.e. 0, 1, 2, ..., [num_class - 1].\n",
      "  warnings.warn(label_encoder_deprecation_msg, UserWarning)\n"
     ]
    }
   ],
   "source": [
    "# SECTION - C\n",
    "# Model Development\n",
    "# Machine Learning models and Ensemble models\n",
    "\n",
    "# First developing the XGBoost classifier\n",
    "from sklearn.model_selection import train_test_split\n",
    "from xgboost import XGBClassifier\n",
    "from sklearn.metrics import accuracy_score, recall_score, precision_score\n",
    "# Train Test Split\n",
    "\n",
    "X_train, X_test, y_train, y_test = train_test_split(X, y, test_size=0.3, random_state=42)\n",
    "\n",
    "xgb_classifier = XGBClassifier()\n",
    "xgb_classifier.fit(X_train, y_train)\n",
    "\n",
    "y_pred = xgb_classifier.predict(X_test)\n",
    "predictions = [round(value) for value in y_pred]\n",
    "\n",
    "accuracy = accuracy_score(y_test, predictions)\n",
    "print(\"Accuracy: %.2f%%\" % (accuracy * 100.0))"
   ]
  },
  {
   "cell_type": "code",
   "execution_count": 126,
   "id": "64e12779",
   "metadata": {},
   "outputs": [
    {
     "name": "stdout",
     "output_type": "stream",
     "text": [
      "[19:00:45] WARNING: ..\\src\\learner.cc:1115: Starting in XGBoost 1.3.0, the default evaluation metric used with the objective 'binary:logistic' was changed from 'error' to 'logloss'. Explicitly set eval_metric if you'd like to restore the old behavior.\n",
      "Accuracy: 84.42%\n"
     ]
    },
    {
     "name": "stderr",
     "output_type": "stream",
     "text": [
      "C:\\Users\\RK\\anaconda3\\lib\\site-packages\\xgboost\\sklearn.py:1224: UserWarning: The use of label encoder in XGBClassifier is deprecated and will be removed in a future release. To remove this warning, do the following: 1) Pass option use_label_encoder=False when constructing XGBClassifier object; and 2) Encode your labels (y) as integers starting with 0, i.e. 0, 1, 2, ..., [num_class - 1].\n",
      "  warnings.warn(label_encoder_deprecation_msg, UserWarning)\n"
     ]
    }
   ],
   "source": [
    "# Majority Voting based Ensemble Method\n",
    "\n",
    "from sklearn.svm import SVC\n",
    "from sklearn.neighbors import KNeighborsClassifier\n",
    "from sklearn.tree import DecisionTreeClassifier\n",
    "from sklearn.ensemble import VotingClassifier\n",
    "\n",
    "clf1 = SVC(random_state=0, kernel='rbf')\n",
    "clf2 = KNeighborsClassifier(n_neighbors=5)\n",
    "clf3 = DecisionTreeClassifier()\n",
    "\n",
    "eclf1 = VotingClassifier(estimators=[('svm', clf1),('knn', clf2), ('dt', clf3), ('xgb', xgb_classifier)], voting='hard')\n",
    "eclf1.fit(X_train, y_train)\n",
    "\n",
    "y_pred_eclf = eclf1.predict(X_test)\n",
    "accuracy_eclf = accuracy_score(y_test, y_pred_eclf)\n",
    "print(\"Accuracy: %.2f%%\" % (accuracy_eclf * 100.0))\n"
   ]
  },
  {
   "cell_type": "code",
   "execution_count": 127,
   "id": "31c3f579",
   "metadata": {},
   "outputs": [
    {
     "name": "stdout",
     "output_type": "stream",
     "text": [
      "Accuracy SVM: 86.96%\n",
      "Accuracy KNN: 85.87%\n",
      "Accuracy DT: 72.83%\n"
     ]
    }
   ],
   "source": [
    "# Checking the performance of the individual ML Classifiers used in the above Ensembling\n",
    "\n",
    "# SVM\n",
    "clf1.fit(X_train, y_train)\n",
    "y_pred_svm = clf1.predict(X_test)\n",
    "\n",
    "# KNN\n",
    "clf2.fit(X_train, y_train)\n",
    "y_pred_knn = clf2.predict(X_test)\n",
    "\n",
    "# DT\n",
    "clf3.fit(X_train, y_train)\n",
    "y_pred_dt = clf3.predict(X_test)\n",
    "\n",
    "# Getting their accuracies and printing them\n",
    "accuracy_clf1 = accuracy_score(y_test, y_pred_svm)\n",
    "accuracy_clf2 = accuracy_score(y_test, y_pred_knn)\n",
    "accuracy_clf3 = accuracy_score(y_test, y_pred_dt)\n",
    "\n",
    "print(\"Accuracy SVM: %.2f%%\" % (accuracy_clf1 * 100.0))\n",
    "print(\"Accuracy KNN: %.2f%%\" % (accuracy_clf2 * 100.0))\n",
    "print(\"Accuracy DT: %.2f%%\" % (accuracy_clf3 * 100.0))"
   ]
  },
  {
   "cell_type": "code",
   "execution_count": 128,
   "id": "f89cb96b",
   "metadata": {},
   "outputs": [
    {
     "name": "stdout",
     "output_type": "stream",
     "text": [
      "Accuracy SVM:\t 86.96%\n",
      "Precision Score SVM:\t 86.35%\n",
      "Recall Score SVM:\t 87.04%\n",
      "F1 Score SVM:\t 86.62%\n",
      "-------------------------------------------\n",
      "Accuracy KNN:\t 85.87%\n",
      "Precision Score KNN:\t 85.24%\n",
      "Recall Score KNN:\t 85.99%\n",
      "F1 Score KNN:\t 85.52%\n",
      "-------------------------------------------\n",
      "Accuracy DT:\t 72.83%\n",
      "Precision Score DT:\t 72.31%\n",
      "Recall Score DT:\t 73.03%\n",
      "F1 Score DT:\t 72.38%\n",
      "-------------------------------------------\n",
      "Accuracy XGradientBoosting:\t 83.33%\n",
      "Precision Score XGradientBoosting:\t 82.71%\n",
      "Recall Score XGradientBoosting:\t 83.57%\n",
      "F1 Score XGradientBoosting:\t 82.98%\n",
      "-------------------------------------------\n",
      "Accuracy Ensemble Voting:\t 84.42%\n",
      "Precision Score Ensemble Voting:\t 83.95%\n",
      "Recall Score Ensemble Voting:\t 85.05%\n",
      "F1 Score Ensemble Voting:\t 84.17%\n",
      "-------------------------------------------\n"
     ]
    }
   ],
   "source": [
    "# Model Evaluation criteria calculation: Accuracy, Precision, Recall and F-measure\n",
    "from sklearn.metrics import f1_score, precision_score, recall_score\n",
    "\n",
    "precision_clf1 = precision_score(y_test, y_pred_svm, average=\"macro\")\n",
    "precision_clf2 = precision_score(y_test, y_pred_knn, average=\"macro\")\n",
    "precision_clf3 = precision_score(y_test, y_pred_dt, average=\"macro\")\n",
    "\n",
    "precision_eclf1 = precision_score(y_test, y_pred_eclf, average=\"macro\")\n",
    "precision_gb = precision_score(y_test, predictions, average=\"macro\")\n",
    "\n",
    "# Recall\n",
    "recall_clf1 = recall_score(y_test, y_pred_svm, average=\"macro\")\n",
    "recall_clf2 = recall_score(y_test, y_pred_knn, average=\"macro\")\n",
    "recall_clf3 = recall_score(y_test, y_pred_dt, average=\"macro\")\n",
    "\n",
    "recall_eclf1 = recall_score(y_test, y_pred_eclf, average=\"macro\")\n",
    "recall_gb = recall_score(y_test, predictions, average=\"macro\")\n",
    "\n",
    "# F Score\n",
    "f1_clf1 = f1_score(y_test, y_pred_svm, average=\"macro\")\n",
    "f1_clf2 = f1_score(y_test, y_pred_knn, average=\"macro\")\n",
    "f1_clf3 = f1_score(y_test, y_pred_dt, average=\"macro\")\n",
    "\n",
    "f1_eclf1 = f1_score(y_test, y_pred_eclf, average=\"macro\")\n",
    "f1_gb = f1_score(y_test, predictions, average=\"macro\")\n",
    "\n",
    "# SECTION E MODEL COMPARISON AND EVALUATION\n",
    "# Metrics: Accuracy, Precision, Recall and F-measure\n",
    "# 1. SVM\n",
    "print(\"Accuracy SVM:\\t %.2f%%\" % (accuracy_clf1 * 100.0))\n",
    "print(\"Precision Score SVM:\\t %.2f%%\" % (precision_clf1* 100.0))\n",
    "print(\"Recall Score SVM:\\t %.2f%%\" % (recall_clf1* 100.0))\n",
    "print(\"F1 Score SVM:\\t %.2f%%\" % (f1_clf1* 100.0))\n",
    "print(\"-------------------------------------------\")\n",
    "# 2. K Nearest Neighbours\n",
    "print(\"Accuracy KNN:\\t %.2f%%\" % (accuracy_clf2 * 100.0))\n",
    "print(\"Precision Score KNN:\\t %.2f%%\" % (precision_clf2* 100.0))\n",
    "print(\"Recall Score KNN:\\t %.2f%%\" % (recall_clf2* 100.0))\n",
    "print(\"F1 Score KNN:\\t %.2f%%\" % (f1_clf2* 100.0))\n",
    "print(\"-------------------------------------------\")\n",
    "# 3. Decision Trees\n",
    "print(\"Accuracy DT:\\t %.2f%%\" % (accuracy_clf3 * 100.0))\n",
    "print(\"Precision Score DT:\\t %.2f%%\" % (precision_clf3* 100.0))\n",
    "print(\"Recall Score DT:\\t %.2f%%\" % (recall_clf3* 100.0))\n",
    "print(\"F1 Score DT:\\t %.2f%%\" % (f1_clf3* 100.0))\n",
    "print(\"-------------------------------------------\")\n",
    "# 4. XGradientBoosting\n",
    "print(\"Accuracy XGradientBoosting:\\t %.2f%%\" % (accuracy * 100.0))\n",
    "print(\"Precision Score XGradientBoosting:\\t %.2f%%\" % (precision_gb* 100.0))\n",
    "print(\"Recall Score XGradientBoosting:\\t %.2f%%\" % (recall_gb* 100.0))\n",
    "print(\"F1 Score XGradientBoosting:\\t %.2f%%\" % (f1_gb* 100.0))\n",
    "print(\"-------------------------------------------\")\n",
    "# 5. Ensemble Voting Majority Based\n",
    "print(\"Accuracy Ensemble Voting:\\t %.2f%%\" % (accuracy_eclf * 100.0))\n",
    "print(\"Precision Score Ensemble Voting:\\t %.2f%%\" % (precision_eclf1* 100.0))\n",
    "print(\"Recall Score Ensemble Voting:\\t %.2f%%\" % (recall_eclf1* 100.0))\n",
    "print(\"F1 Score Ensemble Voting:\\t %.2f%%\" % (f1_eclf1* 100.0))\n",
    "print(\"-------------------------------------------\")"
   ]
  },
  {
   "cell_type": "code",
   "execution_count": 129,
   "id": "28acaf15",
   "metadata": {},
   "outputs": [
    {
     "name": "stdout",
     "output_type": "stream",
     "text": [
      "Train - accuracy: 0.868, f1_score: 0.870, precision: 0.838, recall: 0.919\n",
      "Test - accuracy: 0.880, f1_score: 0.898, precision: 0.914, recall: 0.886\n"
     ]
    }
   ],
   "source": [
    "# SECTION D: DEEP LEARNING MODEL DEVELOPMENT\n",
    "# 3 Dense layered deep learning model development and evaluation\n",
    "from keras.models import Sequential\n",
    "from keras.layers import Dense\n",
    "\n",
    "from keras import backend as K\n",
    "\n",
    "# Creating the metrics functions required for evaluating the model\n",
    "def recall_m(y_true, y_pred):\n",
    "    true_positives = K.sum(K.round(K.clip(y_true * y_pred, 0, 1)))\n",
    "    possible_positives = K.sum(K.round(K.clip(y_true, 0, 1)))\n",
    "    recall = true_positives / (possible_positives + K.epsilon())\n",
    "    return recall\n",
    "\n",
    "def precision_m(y_true, y_pred):\n",
    "    true_positives = K.sum(K.round(K.clip(y_true * y_pred, 0, 1)))\n",
    "    predicted_positives = K.sum(K.round(K.clip(y_pred, 0, 1)))\n",
    "    precision = true_positives / (predicted_positives + K.epsilon())\n",
    "    return precision\n",
    "\n",
    "def f1_m(y_true, y_pred):\n",
    "    precision = precision_m(y_true, y_pred)\n",
    "    recall = recall_m(y_true, y_pred)\n",
    "    return 2*((precision*recall)/(precision+recall+K.epsilon()))\n",
    "\n",
    "# Defining the model\n",
    "dl_model = Sequential()\n",
    "# As the number of features are 11:\n",
    "# the first input layer has 16 nodes,\n",
    "# the second hidden layer has 8 nodes and\n",
    "# the final output layer has 1 node indicating the target variable\n",
    "dl_model.add(Dense(16, input_dim=11, activation='relu'))\n",
    "dl_model.add(Dense(8, activation='relu'))\n",
    "dl_model.add(Dense(1, activation='sigmoid'))\n",
    "\n",
    "# Compiling the model\n",
    "dl_model.compile(loss='binary_crossentropy', optimizer='adam', metrics=['accuracy', f1_m, precision_m, recall_m])\n",
    "\n",
    "# Fit the model\n",
    "history = dl_model.fit(X_train, y_train, validation_data=(X_test, y_test), epochs=50, batch_size=10, verbose=0)\n",
    "\n",
    "# Evaluate the model\n",
    "dl_loss, dl_accuracy, dl_f1_score, dl_precision, dl_recall = dl_model.evaluate(X_train, y_train, verbose=0)\n",
    "print('Train - accuracy: %.3f, f1_score: %.3f, precision: %.3f, recall: %.3f' % (dl_accuracy, dl_f1_score, dl_precision, dl_recall))\n",
    "dl_loss, dl_accuracy, dl_f1_score, dl_precision, dl_recall = dl_model.evaluate(X_test, y_test, verbose=0)\n",
    "print('Test - accuracy: %.3f, f1_score: %.3f, precision: %.3f, recall: %.3f' % (dl_accuracy, dl_f1_score, dl_precision, dl_recall))"
   ]
  },
  {
   "cell_type": "code",
   "execution_count": 130,
   "id": "2fc69a89",
   "metadata": {},
   "outputs": [
    {
     "name": "stdout",
     "output_type": "stream",
     "text": [
      "Train - accuracy: 0.854, f1_score: 0.859, precision: 0.818, recall: 0.919\n",
      "Test - accuracy: 0.884, f1_score: 0.902, precision: 0.915, recall: 0.892\n"
     ]
    }
   ],
   "source": [
    "## Modified DL Model with Dropout Function before the input layer\n",
    "from keras.layers import Dropout\n",
    "# Defining the model\n",
    "dl_model2 = Sequential()\n",
    "# The dropout rate is set to 20%\n",
    "dl_model2.add(Dropout(0.2, input_dim=11))\n",
    "dl_model2.add(Dense(16, activation='relu'))\n",
    "dl_model2.add(Dense(8, activation='relu'))\n",
    "dl_model2.add(Dense(1, activation='sigmoid'))\n",
    "\n",
    "# Compiling the model\n",
    "dl_model2.compile(loss='binary_crossentropy', optimizer='adam', metrics=['accuracy', f1_m, precision_m, recall_m])\n",
    "\n",
    "# Fit the model\n",
    "history2 = dl_model2.fit(X_train, y_train, validation_data=(X_test, y_test), epochs=50, batch_size=10, verbose=0)\n",
    "\n",
    "# Evaluate the model\n",
    "dl_loss, dl_accuracy, dl_f1_score, dl_precision, dl_recall = dl_model2.evaluate(X_train, y_train, verbose=0)\n",
    "print('Train - accuracy: %.3f, f1_score: %.3f, precision: %.3f, recall: %.3f' % (dl_accuracy, dl_f1_score, dl_precision, dl_recall))\n",
    "dl_loss, dl_accuracy, dl_f1_score, dl_precision, dl_recall = dl_model2.evaluate(X_test, y_test, verbose=0)\n",
    "print('Test - accuracy: %.3f, f1_score: %.3f, precision: %.3f, recall: %.3f' % (dl_accuracy, dl_f1_score, dl_precision, dl_recall))"
   ]
  },
  {
   "cell_type": "code",
   "execution_count": 131,
   "id": "bfd13ba3",
   "metadata": {},
   "outputs": [
    {
     "name": "stdout",
     "output_type": "stream",
     "text": [
      "Train - accuracy: 0.738, f1_score: 0.793, precision: 0.673, recall: 0.981\n",
      "Test - accuracy: 0.779, f1_score: 0.839, precision: 0.745, recall: 0.963\n"
     ]
    }
   ],
   "source": [
    "## Modified DL Model with Dropout Function before the input layer\n",
    "from keras.layers import Dropout\n",
    "# Defining the model\n",
    "dl_model5 = Sequential()\n",
    "# The dropout rate is set to 50%\n",
    "dl_model5.add(Dropout(0.5, input_dim=11))\n",
    "dl_model5.add(Dense(16, activation='relu'))\n",
    "dl_model5.add(Dense(8, activation='relu'))\n",
    "dl_model5.add(Dense(1, activation='sigmoid'))\n",
    "\n",
    "# Compiling the model\n",
    "dl_model5.compile(loss='binary_crossentropy', optimizer='adam', metrics=['accuracy', f1_m, precision_m, recall_m])\n",
    "\n",
    "# Fit the model\n",
    "history5 = dl_model5.fit(X_train, y_train, validation_data=(X_test, y_test), epochs=50, batch_size=10, verbose=0)\n",
    "\n",
    "# Evaluate the model\n",
    "dl_loss, dl_accuracy, dl_f1_score, dl_precision, dl_recall = dl_model5.evaluate(X_train, y_train, verbose=0)\n",
    "print('Train - accuracy: %.3f, f1_score: %.3f, precision: %.3f, recall: %.3f' % (dl_accuracy, dl_f1_score, dl_precision, dl_recall))\n",
    "dl_loss, dl_accuracy, dl_f1_score, dl_precision, dl_recall = dl_model5.evaluate(X_test, y_test, verbose=0)\n",
    "print('Test - accuracy: %.3f, f1_score: %.3f, precision: %.3f, recall: %.3f' % (dl_accuracy, dl_f1_score, dl_precision, dl_recall))"
   ]
  },
  {
   "cell_type": "code",
   "execution_count": 132,
   "id": "59f6d476",
   "metadata": {},
   "outputs": [
    {
     "name": "stdout",
     "output_type": "stream",
     "text": [
      "Train - accuracy: 0.829, f1_score: 0.828, precision: 0.832, recall: 0.841\n",
      "Test - accuracy: 0.830, f1_score: 0.847, precision: 0.917, recall: 0.795\n"
     ]
    }
   ],
   "source": [
    "## Modified DL Model with Dropout Function and all the activation functions as sigmoid\n",
    "from keras.layers import Dropout\n",
    "# Defining the model\n",
    "dl_model3 = Sequential()\n",
    "# The dropout rate is set to 20%\n",
    "dl_model3.add(Dropout(0.2, input_dim=11))\n",
    "dl_model3.add(Dense(16, activation='sigmoid'))\n",
    "dl_model3.add(Dense(8, activation='sigmoid'))\n",
    "dl_model3.add(Dense(1, activation='sigmoid'))\n",
    "\n",
    "# Compiling the model\n",
    "dl_model3.compile(loss='binary_crossentropy', optimizer='adam', metrics=['accuracy', f1_m, precision_m, recall_m])\n",
    "\n",
    "# Fit the model\n",
    "history3 = dl_model3.fit(X_train, y_train, validation_data=(X_test, y_test), epochs=50, batch_size=10, verbose=0)\n",
    "\n",
    "# Evaluate the model\n",
    "dl_loss, dl_accuracy, dl_f1_score, dl_precision, dl_recall = dl_model3.evaluate(X_train, y_train, verbose=0)\n",
    "print('Train - accuracy: %.3f, f1_score: %.3f, precision: %.3f, recall: %.3f' % (dl_accuracy, dl_f1_score, dl_precision, dl_recall))\n",
    "dl_loss, dl_accuracy, dl_f1_score, dl_precision, dl_recall = dl_model3.evaluate(X_test, y_test, verbose=0)\n",
    "print('Test - accuracy: %.3f, f1_score: %.3f, precision: %.3f, recall: %.3f' % (dl_accuracy, dl_f1_score, dl_precision, dl_recall))"
   ]
  },
  {
   "cell_type": "code",
   "execution_count": 133,
   "id": "f781b30a",
   "metadata": {},
   "outputs": [
    {
     "name": "stdout",
     "output_type": "stream",
     "text": [
      "Train - accuracy: 0.833, f1_score: 0.853, precision: 0.840, recall: 0.874\n",
      "Test - accuracy: 0.830, f1_score: 0.852, precision: 0.881, recall: 0.831\n"
     ]
    }
   ],
   "source": [
    "## Modified DL Model with Dropout Function and all the activation functions as relu (Rectified Linear Activation Functions)\n",
    "from keras.layers import Dropout\n",
    "# Defining the model\n",
    "dl_model4 = Sequential()\n",
    "# The dropout rate is set to 20%\n",
    "dl_model4.add(Dropout(0.2, input_dim=11))\n",
    "dl_model4.add(Dense(16, activation='relu'))\n",
    "dl_model4.add(Dense(8, activation='relu'))\n",
    "dl_model4.add(Dense(1, activation='relu'))\n",
    "\n",
    "# Compiling the model\n",
    "dl_model4.compile(loss='binary_crossentropy', optimizer='adam', metrics=['accuracy', f1_m, precision_m, recall_m])\n",
    "\n",
    "# Fit the model\n",
    "history4 = dl_model4.fit(X_train, y_train, validation_data=(X_test, y_test), epochs=50, batch_size=10, verbose=0)\n",
    "\n",
    "# Evaluate the model\n",
    "dl_loss, dl_accuracy, dl_f1_score, dl_precision, dl_recall = dl_model4.evaluate(X_train, y_train, verbose=0)\n",
    "print('Train - accuracy: %.3f, f1_score: %.3f, precision: %.3f, recall: %.3f' % (dl_accuracy, dl_f1_score, dl_precision, dl_recall))\n",
    "dl_loss, dl_accuracy, dl_f1_score, dl_precision, dl_recall = dl_model4.evaluate(X_test, y_test, verbose=0)\n",
    "print('Test - accuracy: %.3f, f1_score: %.3f, precision: %.3f, recall: %.3f' % (dl_accuracy, dl_f1_score, dl_precision, dl_recall))"
   ]
  },
  {
   "cell_type": "code",
   "execution_count": null,
   "id": "3201d723",
   "metadata": {},
   "outputs": [],
   "source": [
    "# Model Comparison and Evaluation Notes:\n",
    "\n",
    "# In the ML methods comparison done above, EnsembleMethod results is good accuracy of 84.78%, which is an improvement over the..\n",
    "# traditional ML models ( DT, KNN). However SVM has outperformed Ensemble results with accuracy of 86%\n",
    "\n",
    "# In terms of the other metrics: Precision, Recall and F-Measure Ensembling has the best results in the ML Models set.\n",
    "# Thus in conclusion of ML Models, Ensembling traditional models yields in best results and consistent predictions.\n",
    "\n",
    "# Talking about the DL results, the first point to observe here is that the combination of relu and sigmoid activation fuctions\n",
    "# Results is best performing model out of the tested variations. The model is limited to 50 epochs and batches of 10 each\n",
    "# With a better computers, these hyper parameters can be further increased, leading to more efficient results.\n",
    "\n",
    "# Adding the Dropout rate function, randomizes and hides the batch input to the model, making it slower to learn and predict.\n",
    "# Thus, adding it and increasing the dropout rate reduces the perfomance of the model, but builds a more reliable model.\n",
    "# There are minor changes in the performance criteria of the model as the activation function is changed.\n",
    "\n",
    "############################        CONCLUSION        ###############################\n",
    "# Per the results of both ML models and DL models, it is evident that DL has better results in terms of all the metric criteria.\n",
    "# Thus Deep Learning is definitely the field to look out and explore into."
   ]
  }
 ],
 "metadata": {
  "kernelspec": {
   "display_name": "Python 3",
   "language": "python",
   "name": "python3"
  },
  "language_info": {
   "codemirror_mode": {
    "name": "ipython",
    "version": 3
   },
   "file_extension": ".py",
   "mimetype": "text/x-python",
   "name": "python",
   "nbconvert_exporter": "python",
   "pygments_lexer": "ipython3",
   "version": "3.8.8"
  }
 },
 "nbformat": 4,
 "nbformat_minor": 5
}
